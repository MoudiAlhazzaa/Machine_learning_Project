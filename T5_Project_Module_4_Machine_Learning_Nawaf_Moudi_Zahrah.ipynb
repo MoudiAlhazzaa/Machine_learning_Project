{
  "nbformat": 4,
  "nbformat_minor": 0,
  "metadata": {
    "colab": {
      "provenance": [],
      "include_colab_link": true
    },
    "kernelspec": {
      "name": "python3",
      "display_name": "Python 3"
    },
    "language_info": {
      "name": "python"
    }
  },
  "cells": [
    {
      "cell_type": "markdown",
      "metadata": {
        "id": "view-in-github",
        "colab_type": "text"
      },
      "source": [
        "<a href=\"https://colab.research.google.com/github/MoudiAlhazzaa/Machine_learning_Project/blob/main/T5_Project_Module_4_Machine_Learning_Nawaf_Moudi_Zahrah.ipynb\" target=\"_parent\"><img src=\"https://colab.research.google.com/assets/colab-badge.svg\" alt=\"Open In Colab\"/></a>"
      ]
    },
    {
      "cell_type": "markdown",
      "source": [
        "# **Comparative Analysis of Machine Learning Models on the Iris Dataset Analysis**\n",
        "### BY: Nawaf Aljalaud / ... / ...\n",
        "#### \"SDAIA Bootcamp T5\": Project-Module 4 Machine Learning\n",
        "\n",
        "\n",
        "##Tasks and Mark Distribution:"
      ],
      "metadata": {
        "id": "GcEXblyMuF_6"
      }
    },
    {
      "cell_type": "markdown",
      "source": [
        "##1. Data Preprocessing\n"
      ],
      "metadata": {
        "id": "8jXxbc461TZ8"
      }
    },
    {
      "cell_type": "markdown",
      "source": [],
      "metadata": {
        "id": "XRAw8yG91i9Y"
      }
    },
    {
      "cell_type": "markdown",
      "source": [
        " * Load the Iris dataset.\n",
        "\n"
      ],
      "metadata": {
        "id": "x1CH-1hc1te_"
      }
    },
    {
      "cell_type": "code",
      "execution_count": null,
      "metadata": {
        "id": "L0Ra8yWXrRoN"
      },
      "outputs": [],
      "source": [
        "import pandas as pd\n",
        "from sklearn.model_selection import train_test_split\n",
        "\n",
        "url = \"https://archive.ics.uci.edu/ml/machine-learning-databases/iris/iris.data\"\n",
        "columns = ['sepal_length', 'sepal_width', 'petal_length', 'petal_width', 'species']\n",
        "iris = pd.read_csv(url, names=columns)"
      ]
    },
    {
      "cell_type": "markdown",
      "source": [
        "* Perform data exploration and visualization."
      ],
      "metadata": {
        "id": "cX6lnYQx10Cy"
      }
    },
    {
      "cell_type": "code",
      "source": [
        "import matplotlib.pyplot as plt\n",
        "import seaborn as sns\n",
        "\n",
        "# Data Exploration\n",
        "print(iris.head())\n",
        "print(iris.tail())\n",
        "print(iris.sample(5))"
      ],
      "metadata": {
        "colab": {
          "base_uri": "https://localhost:8080/"
        },
        "id": "GhYAgBXIvH0a",
        "outputId": "f03b724c-8dc4-44ff-8805-51cef5e80785"
      },
      "execution_count": null,
      "outputs": [
        {
          "output_type": "stream",
          "name": "stdout",
          "text": [
            "   sepal_length  sepal_width  petal_length  petal_width      species\n",
            "0           5.1          3.5           1.4          0.2  Iris-setosa\n",
            "1           4.9          3.0           1.4          0.2  Iris-setosa\n",
            "2           4.7          3.2           1.3          0.2  Iris-setosa\n",
            "3           4.6          3.1           1.5          0.2  Iris-setosa\n",
            "4           5.0          3.6           1.4          0.2  Iris-setosa\n",
            "     sepal_length  sepal_width  petal_length  petal_width         species\n",
            "145           6.7          3.0           5.2          2.3  Iris-virginica\n",
            "146           6.3          2.5           5.0          1.9  Iris-virginica\n",
            "147           6.5          3.0           5.2          2.0  Iris-virginica\n",
            "148           6.2          3.4           5.4          2.3  Iris-virginica\n",
            "149           5.9          3.0           5.1          1.8  Iris-virginica\n",
            "     sepal_length  sepal_width  petal_length  petal_width          species\n",
            "130           7.4          2.8           6.1          1.9   Iris-virginica\n",
            "105           7.6          3.0           6.6          2.1   Iris-virginica\n",
            "74            6.4          2.9           4.3          1.3  Iris-versicolor\n",
            "1             4.9          3.0           1.4          0.2      Iris-setosa\n",
            "0             5.1          3.5           1.4          0.2      Iris-setosa\n"
          ]
        }
      ]
    },
    {
      "cell_type": "code",
      "source": [
        "num_rows, num_cols = iris.shape # num of cols and rows\n",
        "print(\"Number of rows:\", num_rows)\n",
        "print(\"Number of columns:\", num_cols)"
      ],
      "metadata": {
        "id": "tn0vwQv_Xl9q"
      },
      "execution_count": null,
      "outputs": []
    },
    {
      "cell_type": "code",
      "source": [
        "iris.columns"
      ],
      "metadata": {
        "id": "3-DOIqWnX2n_"
      },
      "execution_count": null,
      "outputs": []
    },
    {
      "cell_type": "code",
      "source": [
        "iris.dtypes"
      ],
      "metadata": {
        "id": "DqcYO1BIXtaJ"
      },
      "execution_count": null,
      "outputs": []
    },
    {
      "cell_type": "markdown",
      "source": [
        "* visualization using Swarmplots to show the distribution of measurements by species."
      ],
      "metadata": {
        "id": "bJ6V86F73_7-"
      }
    },
    {
      "cell_type": "code",
      "source": [
        "#species vs petal_length\n",
        "sns.swarmplot(x = 'species', y = 'petal_length', data = iris)\n",
        "plt.show()\n",
        "\n",
        "#species vs petal_width\n",
        "sns.swarmplot(x = 'species', y = 'petal_width', data = iris)\n",
        "plt.show()"
      ],
      "metadata": {
        "colab": {
          "base_uri": "https://localhost:8080/",
          "height": 1000
        },
        "id": "XQ0TKwgP3-jC",
        "outputId": "a4856577-6f19-47fd-f64c-c745f9ba6b2d"
      },
      "execution_count": null,
      "outputs": [
        {
          "output_type": "stream",
          "name": "stderr",
          "text": [
            "/usr/local/lib/python3.10/dist-packages/seaborn/categorical.py:3398: UserWarning: 10.0% of the points cannot be placed; you may want to decrease the size of the markers or use stripplot.\n",
            "  warnings.warn(msg, UserWarning)\n"
          ]
        },
        {
          "output_type": "display_data",
          "data": {
            "text/plain": [
              "<Figure size 640x480 with 1 Axes>"
            ],
            "image/png": "[encoded data removed]"
          },
          "metadata": {}
        },
        {
          "output_type": "stream",
          "name": "stderr",
          "text": [
            "/usr/local/lib/python3.10/dist-packages/seaborn/categorical.py:3398: UserWarning: 6.0% of the points cannot be placed; you may want to decrease the size of the markers or use stripplot.\n",
            "  warnings.warn(msg, UserWarning)\n",
            "/usr/local/lib/python3.10/dist-packages/seaborn/categorical.py:3398: UserWarning: 18.0% of the points cannot be placed; you may want to decrease the size of the markers or use stripplot.\n",
            "  warnings.warn(msg, UserWarning)\n"
          ]
        },
        {
          "output_type": "display_data",
          "data": {
            "text/plain": [
              "<Figure size 640x480 with 1 Axes>"
            ],
            "image/png": "[encoded data removed]"
          },
          "metadata": {}
        }
      ]
    },
    {
      "cell_type": "markdown",
      "source": [
        "* Check for missing values and handle them if any."
      ],
      "metadata": {
        "id": "doq2387X1KaF"
      }
    },
    {
      "cell_type": "code",
      "source": [
        "iris.isnull().sum()"
      ],
      "metadata": {
        "colab": {
          "base_uri": "https://localhost:8080/"
        },
        "id": "DtJzlmqp0y1P",
        "outputId": "e7cac3ba-02ed-4a66-c753-7071f101d46e"
      },
      "execution_count": null,
      "outputs": [
        {
          "output_type": "execute_result",
          "data": {
            "text/plain": [
              "sepal_length    0\n",
              "sepal_width     0\n",
              "petal_length    0\n",
              "petal_width     0\n",
              "species         0\n",
              "dtype: int64"
            ]
          },
          "metadata": {},
          "execution_count": 7
        }
      ]
    },
    {
      "cell_type": "code",
      "source": [
        "dup_rows = iris.duplicated() # check for duplicate each row\n",
        "dup_rows"
      ],
      "metadata": {
        "id": "kuxuXkhfYEDz"
      },
      "execution_count": null,
      "outputs": []
    },
    {
      "cell_type": "code",
      "source": [
        "iris.describe(include='object')"
      ],
      "metadata": {
        "id": "Y57n9gi4YO5n"
      },
      "execution_count": null,
      "outputs": []
    },
    {
      "cell_type": "markdown",
      "source": [
        "* Split the dataset into features and the target variable"
      ],
      "metadata": {
        "id": "ymxn5eto3opS"
      }
    },
    {
      "cell_type": "code",
      "source": [
        "X = iris.drop('species', axis=1)\n",
        "y = iris['species']"
      ],
      "metadata": {
        "id": "L47_OlCv3mJH"
      },
      "execution_count": null,
      "outputs": []
    }
  ]
}